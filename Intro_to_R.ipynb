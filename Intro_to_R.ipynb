{
  "nbformat": 4,
  "nbformat_minor": 0,
  "metadata": {
    "colab": {
      "provenance": [],
      "authorship_tag": "ABX9TyPSscLQFqCiHGHMXlSIw8Bm",
      "include_colab_link": true
    },
    "kernelspec": {
      "name": "ir",
      "display_name": "R"
    },
    "language_info": {
      "name": "R"
    }
  },
  "cells": [
    {
      "cell_type": "markdown",
      "metadata": {
        "id": "view-in-github",
        "colab_type": "text"
      },
      "source": [
        "<a href=\"https://colab.research.google.com/github/smbillah/ist526/blob/main/Intro_to_R.ipynb\" target=\"_parent\"><img src=\"https://colab.research.google.com/assets/colab-badge.svg\" alt=\"Open In Colab\"/></a>"
      ]
    },
    {
      "cell_type": "code",
      "execution_count": null,
      "metadata": {
        "id": "og3lpCx1B0pq"
      },
      "outputs": [],
      "source": [
        "help(solve)"
      ]
    },
    {
      "cell_type": "code",
      "source": [
        "?solve"
      ],
      "metadata": {
        "id": "GYtQuX4TDAWJ"
      },
      "execution_count": null,
      "outputs": []
    },
    {
      "cell_type": "markdown",
      "source": [
        "# Vectors and assignment"
      ],
      "metadata": {
        "id": "woJYf8S8DK8J"
      }
    },
    {
      "cell_type": "code",
      "source": [
        "# a vector starts with 'c', the short of concatenation \n",
        "c(10.4, 5.6, 3.1, 6.4, 21.7)\n"
      ],
      "metadata": {
        "colab": {
          "base_uri": "https://localhost:8080/",
          "height": 34
        },
        "id": "MAc-_lvXDR2l",
        "outputId": "db8c79c7-2e9f-4169-d3e6-bd88b53b5b79"
      },
      "execution_count": null,
      "outputs": [
        {
          "output_type": "display_data",
          "data": {
            "text/html": [
              "<style>\n",
              ".list-inline {list-style: none; margin:0; padding: 0}\n",
              ".list-inline>li {display: inline-block}\n",
              ".list-inline>li:not(:last-child)::after {content: \"\\00b7\"; padding: 0 .5ex}\n",
              "</style>\n",
              "<ol class=list-inline><li>10.4</li><li>5.6</li><li>3.1</li><li>6.4</li><li>21.7</li></ol>\n"
            ],
            "text/markdown": "1. 10.4\n2. 5.6\n3. 3.1\n4. 6.4\n5. 21.7\n\n\n",
            "text/latex": "\\begin{enumerate*}\n\\item 10.4\n\\item 5.6\n\\item 3.1\n\\item 6.4\n\\item 21.7\n\\end{enumerate*}\n",
            "text/plain": [
              "[1] 10.4  5.6  3.1  6.4 21.7"
            ]
          },
          "metadata": {}
        }
      ]
    },
    {
      "cell_type": "code",
      "source": [
        "# we need to assign it to a varible, say x.\n",
        "# R supports multiple ways to do so\n",
        "\n",
        "x <- c(10.4, 5.6, 3.1, 6.4, 21.7) # R-way\n",
        "assign(\"x\", c(10.4, 5.6, 3.1, 6.4, 21.7)) # function\n",
        "c(10.4, 5.6, 3.1, 6.4, 21.7) -> x # R-way\n",
        "x = c(10.4, 5.6, 3.1, 6.4, 21.7) # the regular way"
      ],
      "metadata": {
        "id": "t5By8vfyEBoQ"
      },
      "execution_count": null,
      "outputs": []
    },
    {
      "cell_type": "code",
      "source": [
        "# use x. Let's inverse each element in x\n",
        "1/x"
      ],
      "metadata": {
        "colab": {
          "base_uri": "https://localhost:8080/",
          "height": 34
        },
        "id": "yVQpStKlDgaq",
        "outputId": "fb272337-e74a-4c88-d4ff-a31dd60177b8"
      },
      "execution_count": null,
      "outputs": [
        {
          "output_type": "display_data",
          "data": {
            "text/html": [
              "<style>\n",
              ".list-inline {list-style: none; margin:0; padding: 0}\n",
              ".list-inline>li {display: inline-block}\n",
              ".list-inline>li:not(:last-child)::after {content: \"\\00b7\"; padding: 0 .5ex}\n",
              "</style>\n",
              "<ol class=list-inline><li>0.0961538461538461</li><li>0.178571428571429</li><li>0.32258064516129</li><li>0.15625</li><li>0.0460829493087558</li></ol>\n"
            ],
            "text/markdown": "1. 0.0961538461538461\n2. 0.178571428571429\n3. 0.32258064516129\n4. 0.15625\n5. 0.0460829493087558\n\n\n",
            "text/latex": "\\begin{enumerate*}\n\\item 0.0961538461538461\n\\item 0.178571428571429\n\\item 0.32258064516129\n\\item 0.15625\n\\item 0.0460829493087558\n\\end{enumerate*}\n",
            "text/plain": [
              "[1] 0.09615385 0.17857143 0.32258065 0.15625000 0.04608295"
            ]
          },
          "metadata": {}
        }
      ]
    },
    {
      "cell_type": "code",
      "source": [
        "# list of pre-loaded data\n",
        "data()"
      ],
      "metadata": {
        "id": "g_Cuz-8kTzCk"
      },
      "execution_count": 22,
      "outputs": []
    },
    {
      "cell_type": "code",
      "source": [
        "# Loading\n",
        "data(mtcars)\n",
        "# Print the first 6 rows\n",
        "head(mtcars, 6)"
      ],
      "metadata": {
        "colab": {
          "base_uri": "https://localhost:8080/",
          "height": 283
        },
        "id": "R8OyKpUhT5Nb",
        "outputId": "794606cc-c1df-404d-c26d-bfb74a208627"
      },
      "execution_count": 23,
      "outputs": [
        {
          "output_type": "display_data",
          "data": {
            "text/html": [
              "<table class=\"dataframe\">\n",
              "<caption>A data.frame: 6 × 11</caption>\n",
              "<thead>\n",
              "\t<tr><th></th><th scope=col>mpg</th><th scope=col>cyl</th><th scope=col>disp</th><th scope=col>hp</th><th scope=col>drat</th><th scope=col>wt</th><th scope=col>qsec</th><th scope=col>vs</th><th scope=col>am</th><th scope=col>gear</th><th scope=col>carb</th></tr>\n",
              "\t<tr><th></th><th scope=col>&lt;dbl&gt;</th><th scope=col>&lt;dbl&gt;</th><th scope=col>&lt;dbl&gt;</th><th scope=col>&lt;dbl&gt;</th><th scope=col>&lt;dbl&gt;</th><th scope=col>&lt;dbl&gt;</th><th scope=col>&lt;dbl&gt;</th><th scope=col>&lt;dbl&gt;</th><th scope=col>&lt;dbl&gt;</th><th scope=col>&lt;dbl&gt;</th><th scope=col>&lt;dbl&gt;</th></tr>\n",
              "</thead>\n",
              "<tbody>\n",
              "\t<tr><th scope=row>Mazda RX4</th><td>21.0</td><td>6</td><td>160</td><td>110</td><td>3.90</td><td>2.620</td><td>16.46</td><td>0</td><td>1</td><td>4</td><td>4</td></tr>\n",
              "\t<tr><th scope=row>Mazda RX4 Wag</th><td>21.0</td><td>6</td><td>160</td><td>110</td><td>3.90</td><td>2.875</td><td>17.02</td><td>0</td><td>1</td><td>4</td><td>4</td></tr>\n",
              "\t<tr><th scope=row>Datsun 710</th><td>22.8</td><td>4</td><td>108</td><td> 93</td><td>3.85</td><td>2.320</td><td>18.61</td><td>1</td><td>1</td><td>4</td><td>1</td></tr>\n",
              "\t<tr><th scope=row>Hornet 4 Drive</th><td>21.4</td><td>6</td><td>258</td><td>110</td><td>3.08</td><td>3.215</td><td>19.44</td><td>1</td><td>0</td><td>3</td><td>1</td></tr>\n",
              "\t<tr><th scope=row>Hornet Sportabout</th><td>18.7</td><td>8</td><td>360</td><td>175</td><td>3.15</td><td>3.440</td><td>17.02</td><td>0</td><td>0</td><td>3</td><td>2</td></tr>\n",
              "\t<tr><th scope=row>Valiant</th><td>18.1</td><td>6</td><td>225</td><td>105</td><td>2.76</td><td>3.460</td><td>20.22</td><td>1</td><td>0</td><td>3</td><td>1</td></tr>\n",
              "</tbody>\n",
              "</table>\n"
            ],
            "text/markdown": "\nA data.frame: 6 × 11\n\n| <!--/--> | mpg &lt;dbl&gt; | cyl &lt;dbl&gt; | disp &lt;dbl&gt; | hp &lt;dbl&gt; | drat &lt;dbl&gt; | wt &lt;dbl&gt; | qsec &lt;dbl&gt; | vs &lt;dbl&gt; | am &lt;dbl&gt; | gear &lt;dbl&gt; | carb &lt;dbl&gt; |\n|---|---|---|---|---|---|---|---|---|---|---|---|\n| Mazda RX4 | 21.0 | 6 | 160 | 110 | 3.90 | 2.620 | 16.46 | 0 | 1 | 4 | 4 |\n| Mazda RX4 Wag | 21.0 | 6 | 160 | 110 | 3.90 | 2.875 | 17.02 | 0 | 1 | 4 | 4 |\n| Datsun 710 | 22.8 | 4 | 108 |  93 | 3.85 | 2.320 | 18.61 | 1 | 1 | 4 | 1 |\n| Hornet 4 Drive | 21.4 | 6 | 258 | 110 | 3.08 | 3.215 | 19.44 | 1 | 0 | 3 | 1 |\n| Hornet Sportabout | 18.7 | 8 | 360 | 175 | 3.15 | 3.440 | 17.02 | 0 | 0 | 3 | 2 |\n| Valiant | 18.1 | 6 | 225 | 105 | 2.76 | 3.460 | 20.22 | 1 | 0 | 3 | 1 |\n\n",
            "text/latex": "A data.frame: 6 × 11\n\\begin{tabular}{r|lllllllllll}\n  & mpg & cyl & disp & hp & drat & wt & qsec & vs & am & gear & carb\\\\\n  & <dbl> & <dbl> & <dbl> & <dbl> & <dbl> & <dbl> & <dbl> & <dbl> & <dbl> & <dbl> & <dbl>\\\\\n\\hline\n\tMazda RX4 & 21.0 & 6 & 160 & 110 & 3.90 & 2.620 & 16.46 & 0 & 1 & 4 & 4\\\\\n\tMazda RX4 Wag & 21.0 & 6 & 160 & 110 & 3.90 & 2.875 & 17.02 & 0 & 1 & 4 & 4\\\\\n\tDatsun 710 & 22.8 & 4 & 108 &  93 & 3.85 & 2.320 & 18.61 & 1 & 1 & 4 & 1\\\\\n\tHornet 4 Drive & 21.4 & 6 & 258 & 110 & 3.08 & 3.215 & 19.44 & 1 & 0 & 3 & 1\\\\\n\tHornet Sportabout & 18.7 & 8 & 360 & 175 & 3.15 & 3.440 & 17.02 & 0 & 0 & 3 & 2\\\\\n\tValiant & 18.1 & 6 & 225 & 105 & 2.76 & 3.460 & 20.22 & 1 & 0 & 3 & 1\\\\\n\\end{tabular}\n",
            "text/plain": [
              "                  mpg  cyl disp hp  drat wt    qsec  vs am gear carb\n",
              "Mazda RX4         21.0 6   160  110 3.90 2.620 16.46 0  1  4    4   \n",
              "Mazda RX4 Wag     21.0 6   160  110 3.90 2.875 17.02 0  1  4    4   \n",
              "Datsun 710        22.8 4   108   93 3.85 2.320 18.61 1  1  4    1   \n",
              "Hornet 4 Drive    21.4 6   258  110 3.08 3.215 19.44 1  0  3    1   \n",
              "Hornet Sportabout 18.7 8   360  175 3.15 3.440 17.02 0  0  3    2   \n",
              "Valiant           18.1 6   225  105 2.76 3.460 20.22 1  0  3    1   "
            ]
          },
          "metadata": {}
        }
      ]
    },
    {
      "cell_type": "code",
      "source": [
        "?mtcars"
      ],
      "metadata": {
        "id": "9wSSlYLUUGEb"
      },
      "execution_count": 26,
      "outputs": []
    },
    {
      "cell_type": "code",
      "source": [
        "ncol(mtcars)"
      ],
      "metadata": {
        "colab": {
          "base_uri": "https://localhost:8080/",
          "height": 34
        },
        "id": "Whijvy5lUASR",
        "outputId": "a5d95a1b-727a-48bb-e582-23aee0c0e3ca"
      },
      "execution_count": 24,
      "outputs": [
        {
          "output_type": "display_data",
          "data": {
            "text/html": [
              "11"
            ],
            "text/markdown": "11",
            "text/latex": "11",
            "text/plain": [
              "[1] 11"
            ]
          },
          "metadata": {}
        }
      ]
    },
    {
      "cell_type": "code",
      "source": [
        "nrow(mtcars)"
      ],
      "metadata": {
        "colab": {
          "base_uri": "https://localhost:8080/",
          "height": 34
        },
        "id": "WXMAAXRcUC4q",
        "outputId": "43d60320-8081-4bb6-b551-945a0ed1d37e"
      },
      "execution_count": 25,
      "outputs": [
        {
          "output_type": "display_data",
          "data": {
            "text/html": [
              "32"
            ],
            "text/markdown": "32",
            "text/latex": "32",
            "text/plain": [
              "[1] 32"
            ]
          },
          "metadata": {}
        }
      ]
    },
    {
      "cell_type": "code",
      "source": [
        "mtcars$mpg"
      ],
      "metadata": {
        "colab": {
          "base_uri": "https://localhost:8080/",
          "height": 51
        },
        "id": "albooLfUUQ-F",
        "outputId": "2ca0714d-b6b5-4c05-b3fd-15ff9855e89f"
      },
      "execution_count": 27,
      "outputs": [
        {
          "output_type": "display_data",
          "data": {
            "text/html": [
              "<style>\n",
              ".list-inline {list-style: none; margin:0; padding: 0}\n",
              ".list-inline>li {display: inline-block}\n",
              ".list-inline>li:not(:last-child)::after {content: \"\\00b7\"; padding: 0 .5ex}\n",
              "</style>\n",
              "<ol class=list-inline><li>21</li><li>21</li><li>22.8</li><li>21.4</li><li>18.7</li><li>18.1</li><li>14.3</li><li>24.4</li><li>22.8</li><li>19.2</li><li>17.8</li><li>16.4</li><li>17.3</li><li>15.2</li><li>10.4</li><li>10.4</li><li>14.7</li><li>32.4</li><li>30.4</li><li>33.9</li><li>21.5</li><li>15.5</li><li>15.2</li><li>13.3</li><li>19.2</li><li>27.3</li><li>26</li><li>30.4</li><li>15.8</li><li>19.7</li><li>15</li><li>21.4</li></ol>\n"
            ],
            "text/markdown": "1. 21\n2. 21\n3. 22.8\n4. 21.4\n5. 18.7\n6. 18.1\n7. 14.3\n8. 24.4\n9. 22.8\n10. 19.2\n11. 17.8\n12. 16.4\n13. 17.3\n14. 15.2\n15. 10.4\n16. 10.4\n17. 14.7\n18. 32.4\n19. 30.4\n20. 33.9\n21. 21.5\n22. 15.5\n23. 15.2\n24. 13.3\n25. 19.2\n26. 27.3\n27. 26\n28. 30.4\n29. 15.8\n30. 19.7\n31. 15\n32. 21.4\n\n\n",
            "text/latex": "\\begin{enumerate*}\n\\item 21\n\\item 21\n\\item 22.8\n\\item 21.4\n\\item 18.7\n\\item 18.1\n\\item 14.3\n\\item 24.4\n\\item 22.8\n\\item 19.2\n\\item 17.8\n\\item 16.4\n\\item 17.3\n\\item 15.2\n\\item 10.4\n\\item 10.4\n\\item 14.7\n\\item 32.4\n\\item 30.4\n\\item 33.9\n\\item 21.5\n\\item 15.5\n\\item 15.2\n\\item 13.3\n\\item 19.2\n\\item 27.3\n\\item 26\n\\item 30.4\n\\item 15.8\n\\item 19.7\n\\item 15\n\\item 21.4\n\\end{enumerate*}\n",
            "text/plain": [
              " [1] 21.0 21.0 22.8 21.4 18.7 18.1 14.3 24.4 22.8 19.2 17.8 16.4 17.3 15.2 10.4\n",
              "[16] 10.4 14.7 32.4 30.4 33.9 21.5 15.5 15.2 13.3 19.2 27.3 26.0 30.4 15.8 19.7\n",
              "[31] 15.0 21.4"
            ]
          },
          "metadata": {}
        }
      ]
    },
    {
      "cell_type": "markdown",
      "source": [
        "# Simple Plotting\n",
        "https://www.tutorialspoint.com/r/r_normal_distribution.htm"
      ],
      "metadata": {
        "id": "T-pZ6JrEUjnt"
      }
    },
    {
      "cell_type": "markdown",
      "source": [
        "## dnorm\n",
        "This function gives height of the probability distribution at each point for a given mean and standard deviation."
      ],
      "metadata": {
        "id": "3C5Y5rY6V3GX"
      }
    },
    {
      "cell_type": "code",
      "source": [
        "# Create a sequence of numbers between -10 and 10 incrementing by 0.1.\n",
        "x <- seq(-10, 10, by = .1)\n",
        "\n",
        "# Choose the mean as 2.5 and standard deviation as 0.5.\n",
        "y <- dnorm(x, mean = 2.5, sd = 0.5)\n",
        "\n",
        "plot(x,y)\n"
      ],
      "metadata": {
        "colab": {
          "base_uri": "https://localhost:8080/",
          "height": 437
        },
        "id": "LBu-znO1UmA8",
        "outputId": "2c3999eb-4ead-43f9-a4e4-19d81a5b569d"
      },
      "execution_count": 29,
      "outputs": [
        {
          "output_type": "display_data",
          "data": {
            "text/plain": [
              "plot without title"
            ],
            "image/png": "[encoded data removed]"
          },
          "metadata": {
            "image/png": {
              "width": 420,
              "height": 420
            }
          }
        }
      ]
    },
    {
      "cell_type": "markdown",
      "source": [
        "## pnorm\n",
        "This function gives the probability of a normally distributed random number to be less that the value of a given number. It is also called \"Cumulative Distribution Function\""
      ],
      "metadata": {
        "id": "U7_e4hPxV2YS"
      }
    },
    {
      "cell_type": "code",
      "source": [
        "# Create a sequence of numbers between -10 and 10 incrementing by 0.2.\n",
        "x <- seq(-10,10,by = .2)\n",
        " \n",
        "# Choose the mean as 2.5 and standard deviation as 2. \n",
        "y <- pnorm(x, mean = 2.5, sd = 2)\n",
        "\n",
        "# Plot the graph.\n",
        "plot(x,y)\n"
      ],
      "metadata": {
        "colab": {
          "base_uri": "https://localhost:8080/",
          "height": 437
        },
        "id": "-B6VOUavWIUE",
        "outputId": "3600773b-fe6e-4c1c-8181-c9a73f460359"
      },
      "execution_count": 32,
      "outputs": [
        {
          "output_type": "display_data",
          "data": {
            "text/plain": [
              "plot without title"
            ],
            "image/png": "[encoded data removed]"
          },
          "metadata": {
            "image/png": {
              "width": 420,
              "height": 420
            }
          }
        }
      ]
    },
    {
      "cell_type": "markdown",
      "source": [
        "## qnorm() \n",
        "This function takes the probability value and gives a number whose cumulative value matches the probability value."
      ],
      "metadata": {
        "id": "WLJslz-YWPVv"
      }
    },
    {
      "cell_type": "code",
      "source": [
        "# Create a sequence of probability values incrementing by 0.02.\n",
        "x <- seq(0, 1, by = 0.02)\n",
        "\n",
        "# Choose the mean as 2 and standard deviation as 3.\n",
        "y <- qnorm(x, mean = 2, sd = 1)\n",
        "\n",
        "# Plot the graph.\n",
        "plot(x,y)\n"
      ],
      "metadata": {
        "colab": {
          "base_uri": "https://localhost:8080/",
          "height": 437
        },
        "id": "bl1-lTb9WZjh",
        "outputId": "452c6e49-4170-4d7d-9b83-67c318136322"
      },
      "execution_count": 33,
      "outputs": [
        {
          "output_type": "display_data",
          "data": {
            "text/plain": [
              "plot without title"
            ],
            "image/png": "[encoded data removed]"
          },
          "metadata": {
            "image/png": {
              "width": 420,
              "height": 420
            }
          }
        }
      ]
    },
    {
      "cell_type": "markdown",
      "source": [
        "## rnorm()\n",
        "This function is used to generate random numbers whose distribution is normal. It takes the sample size as input and generates that many random numbers. We draw a histogram to show the distribution of the generated numbers."
      ],
      "metadata": {
        "id": "hkCRUQsNWiCG"
      }
    },
    {
      "cell_type": "code",
      "source": [
        "# Create a sample of 50 numbers which are normally distributed.\n",
        "y <- rnorm(50)\n",
        "\n",
        "# Plot the histogram for this sample.\n",
        "hist(y, main = \"Normal DIstribution\")\n"
      ],
      "metadata": {
        "colab": {
          "base_uri": "https://localhost:8080/",
          "height": 437
        },
        "id": "aj__U83SWkuD",
        "outputId": "6bb628a6-f23e-45f7-fa5a-3a795b5f4a7f"
      },
      "execution_count": 34,
      "outputs": [
        {
          "output_type": "display_data",
          "data": {
            "text/plain": [
              "Plot with title “Normal DIstribution”"
            ],
            "image/png": "[encoded data removed]"
          },
          "metadata": {
            "image/png": {
              "width": 420,
              "height": 420
            }
          }
        }
      ]
    },
    {
      "cell_type": "markdown",
      "source": [
        "# Regression model"
      ],
      "metadata": {
        "id": "69HhTOFRW9fQ"
      }
    },
    {
      "cell_type": "code",
      "source": [
        "# Select some columns form mtcars.\n",
        "input <- mtcars[,c(\"am\", \"mpg\", \"cyl\",\"hp\",\"wt\")]\n",
        "\n",
        "print(head(input))"
      ],
      "metadata": {
        "colab": {
          "base_uri": "https://localhost:8080/"
        },
        "id": "LeFMN_qIXAO2",
        "outputId": "f4f0303c-fe7f-4f3a-d0e6-4eb435e5d42b"
      },
      "execution_count": 45,
      "outputs": [
        {
          "output_type": "stream",
          "name": "stdout",
          "text": [
            "                  am  mpg cyl  hp    wt\n",
            "Mazda RX4          1 21.0   6 110 2.620\n",
            "Mazda RX4 Wag      1 21.0   6 110 2.875\n",
            "Datsun 710         1 22.8   4  93 2.320\n",
            "Hornet 4 Drive     0 21.4   6 110 3.215\n",
            "Hornet Sportabout  0 18.7   8 175 3.440\n",
            "Valiant            0 18.1   6 105 3.460\n"
          ]
        }
      ]
    },
    {
      "cell_type": "code",
      "source": [
        "input <- mtcars[,c(\"mpg\",\"hp\")]\n",
        "\n",
        "mpg.data = lm(formula = mpg ~ hp, data = input)\n",
        "\n",
        "print(summary(mpg.data))"
      ],
      "metadata": {
        "colab": {
          "base_uri": "https://localhost:8080/"
        },
        "id": "GzhC0OjiXEpU",
        "outputId": "8f53f1a4-1ad7-424b-df1c-08a67e17f3b3"
      },
      "execution_count": 49,
      "outputs": [
        {
          "output_type": "stream",
          "name": "stdout",
          "text": [
            "\n",
            "Call:\n",
            "lm(formula = mpg ~ hp, data = input)\n",
            "\n",
            "Residuals:\n",
            "    Min      1Q  Median      3Q     Max \n",
            "-5.7121 -2.1122 -0.8854  1.5819  8.2360 \n",
            "\n",
            "Coefficients:\n",
            "            Estimate Std. Error t value Pr(>|t|)    \n",
            "(Intercept) 30.09886    1.63392  18.421  < 2e-16 ***\n",
            "hp          -0.06823    0.01012  -6.742 1.79e-07 ***\n",
            "---\n",
            "Signif. codes:  0 ‘***’ 0.001 ‘**’ 0.01 ‘*’ 0.05 ‘.’ 0.1 ‘ ’ 1\n",
            "\n",
            "Residual standard error: 3.863 on 30 degrees of freedom\n",
            "Multiple R-squared:  0.6024,\tAdjusted R-squared:  0.5892 \n",
            "F-statistic: 45.46 on 1 and 30 DF,  p-value: 1.788e-07\n",
            "\n"
          ]
        }
      ]
    },
    {
      "cell_type": "code",
      "source": [
        "# predict\n",
        "# Find hp base on the weight of a car\n",
        "a <- data.frame(hp = 110.0)\n",
        "result <-  predict(mpg.data,a)\n",
        "print(result)"
      ],
      "metadata": {
        "colab": {
          "base_uri": "https://localhost:8080/"
        },
        "id": "lTp1jC2zYCMr",
        "outputId": "6abf666e-de00-480c-f2f0-3847f671d2ba"
      },
      "execution_count": 54,
      "outputs": [
        {
          "output_type": "stream",
          "name": "stdout",
          "text": [
            "       1 \n",
            "22.59375 \n"
          ]
        }
      ]
    },
    {
      "cell_type": "code",
      "source": [
        "# sample data\n",
        "x <- c(151, 174, 138, 186, 128, 136, 179, 163, 152, 131)\n",
        "y <- c(63, 81, 56, 91, 47, 57, 76, 72, 62, 48)\n",
        "\n",
        "# Apply the lm() function.\n",
        "lm_model <- lm(y~x)\n",
        "\n",
        "print(summary(lm_model))"
      ],
      "metadata": {
        "colab": {
          "base_uri": "https://localhost:8080/"
        },
        "id": "bSWvjQTmXkgM",
        "outputId": "ad4e54a7-a078-4d7b-c4db-ab91184bb61c"
      },
      "execution_count": 52,
      "outputs": [
        {
          "output_type": "stream",
          "name": "stdout",
          "text": [
            "\n",
            "Call:\n",
            "lm(formula = y ~ x)\n",
            "\n",
            "Residuals:\n",
            "    Min      1Q  Median      3Q     Max \n",
            "-6.3002 -1.6629  0.0412  1.8944  3.9775 \n",
            "\n",
            "Coefficients:\n",
            "             Estimate Std. Error t value Pr(>|t|)    \n",
            "(Intercept) -38.45509    8.04901  -4.778  0.00139 ** \n",
            "x             0.67461    0.05191  12.997 1.16e-06 ***\n",
            "---\n",
            "Signif. codes:  0 ‘***’ 0.001 ‘**’ 0.01 ‘*’ 0.05 ‘.’ 0.1 ‘ ’ 1\n",
            "\n",
            "Residual standard error: 3.253 on 8 degrees of freedom\n",
            "Multiple R-squared:  0.9548,\tAdjusted R-squared:  0.9491 \n",
            "F-statistic: 168.9 on 1 and 8 DF,  p-value: 1.164e-06\n",
            "\n"
          ]
        }
      ]
    },
    {
      "cell_type": "code",
      "source": [
        "# The predictor vector.\n",
        "x <- c(151, 174, 138, 186, 128, 136, 179, 163, 152, 131)\n",
        "\n",
        "# The resposne vector.\n",
        "y <- c(63, 81, 56, 91, 47, 57, 76, 72, 62, 48)\n",
        "\n",
        "# Apply the lm() function.\n",
        "relation <- lm(y~x)\n",
        "\n",
        "# Find weight of a person with height 170.\n",
        "a <- data.frame(x = 170)\n",
        "result <-  predict(relation,a)\n",
        "print(result)"
      ],
      "metadata": {
        "colab": {
          "base_uri": "https://localhost:8080/"
        },
        "id": "ewJ7D69hZZti",
        "outputId": "b6c42da4-86d9-487b-f55c-9a12a5183d94"
      },
      "execution_count": 53,
      "outputs": [
        {
          "output_type": "stream",
          "name": "stdout",
          "text": [
            "       1 \n",
            "76.22869 \n"
          ]
        }
      ]
    },
    {
      "cell_type": "markdown",
      "source": [],
      "metadata": {
        "id": "FXFvjZ5ZW_bw"
      }
    },
    {
      "cell_type": "markdown",
      "source": [
        "# Load Your Data"
      ],
      "metadata": {
        "id": "X7EV0jqWUMN-"
      }
    },
    {
      "cell_type": "code",
      "source": [
        "# load data (click on the folder icon on the left, upload data file)\n",
        "data <- read.csv('/content/asd_data2.csv')\n",
        "head(data)"
      ],
      "metadata": {
        "id": "xjc4gML7FpXI"
      },
      "execution_count": null,
      "outputs": []
    },
    {
      "cell_type": "code",
      "source": [
        "# more operation: https://swcarpentry.github.io/r-novice-inflammation/11-supp-read-write-csv/\n",
        "data$Education"
      ],
      "metadata": {
        "id": "-hUwsNzRTa8C"
      },
      "execution_count": null,
      "outputs": []
    }
  ]
}